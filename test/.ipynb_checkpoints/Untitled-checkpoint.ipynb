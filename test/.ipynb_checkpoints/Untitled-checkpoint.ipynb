{
 "cells": [
  {
   "cell_type": "code",
   "execution_count": 12,
   "id": "39704c14",
   "metadata": {},
   "outputs": [],
   "source": [
    "def decompose_sam_flag(flag):\n",
    "    \"\"\"\n",
    "    Decompose SAM flag into its component parts\n",
    "\n",
    "    Parameters:\n",
    "        flag(str): Sam flag\n",
    "\n",
    "    Returns:\n",
    "        (list): Elements of sam flag\n",
    "    \"\"\"\n",
    "    with tempfile.NamedTemporaryFile() as f:\n",
    "        proc = subprocess.run([\"samtools\", \"flag\", flag], stdout=f)\n",
    "        fn = open(f.name)\n",
    "        line = fn.readline()\n",
    "        return line.split(\"\\t\")[-1].strip('\\n').split(\",\")"
   ]
  },
  {
   "cell_type": "code",
   "execution_count": 13,
   "id": "d8d26225",
   "metadata": {},
   "outputs": [],
   "source": [
    "import subprocess\n",
    "import tempfile"
   ]
  },
  {
   "cell_type": "code",
   "execution_count": 14,
   "id": "cb5e12ad",
   "metadata": {},
   "outputs": [
    {
     "name": "stdout",
     "output_type": "stream",
     "text": [
      "['MUNMAP', 'READ1']\n"
     ]
    }
   ],
   "source": [
    "decompose_sam_flag(\"72\")"
   ]
  },
  {
   "cell_type": "code",
   "execution_count": null,
   "id": "d88ce384",
   "metadata": {},
   "outputs": [],
   "source": []
  }
 ],
 "metadata": {
  "kernelspec": {
   "display_name": "Python 3 (ipykernel)",
   "language": "python",
   "name": "python3"
  },
  "language_info": {
   "codemirror_mode": {
    "name": "ipython",
    "version": 3
   },
   "file_extension": ".py",
   "mimetype": "text/x-python",
   "name": "python",
   "nbconvert_exporter": "python",
   "pygments_lexer": "ipython3",
   "version": "3.9.7"
  }
 },
 "nbformat": 4,
 "nbformat_minor": 5
}
